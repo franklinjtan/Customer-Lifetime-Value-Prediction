{
 "cells": [
  {
   "cell_type": "markdown",
   "id": "de325d28",
   "metadata": {},
   "source": [
    "# 1. Identifying the features\n",
    "#### Use RFM scores for each customer ID for feature set. In order to implement this correctly, we should divide our dataset. We will select a period of 3 months' worth of data, calculate the RFM scores, and then utilize them to predict the following 6 months. Therefore, our first step is to create two dataframes and add the RFM scores to them.'"
   ]
  },
  {
   "cell_type": "markdown",
   "id": "eb081aff",
   "metadata": {},
   "source": [
    "# 2. Importing necessary libraries and packages"
   ]
  },
  {
   "cell_type": "code",
   "execution_count": 17,
   "id": "8d8afe83",
   "metadata": {},
   "outputs": [],
   "source": [
    "#import libraries\n",
    "from __future__ import division\n",
    "\n",
    "from datetime import datetime, timedelta,date\n",
    "import pandas as pd\n",
    "%matplotlib inline\n",
    "# from sklearn.metrics import classification_report,confusion_matrix\n",
    "import matplotlib.pyplot as plt\n",
    "import numpy as np\n",
    "import seaborn as sns\n",
    "# from sklearn.cluster import KMeans\n",
    "\n",
    "\n",
    "import plotly as py\n",
    "import plotly.offline as pyoff\n",
    "import plotly.graph_objs as go\n",
    "\n",
    "# import xgboost as xgb\n",
    "# from sklearn.model_selection import KFold, cross_val_score, train_test_split\n",
    "\n",
    "# import xgboost as xgb"
   ]
  },
  {
   "cell_type": "code",
   "execution_count": 18,
   "id": "814f0ccc",
   "metadata": {},
   "outputs": [
    {
     "data": {
      "text/html": [
       "<div>\n",
       "<style scoped>\n",
       "    .dataframe tbody tr th:only-of-type {\n",
       "        vertical-align: middle;\n",
       "    }\n",
       "\n",
       "    .dataframe tbody tr th {\n",
       "        vertical-align: top;\n",
       "    }\n",
       "\n",
       "    .dataframe thead th {\n",
       "        text-align: right;\n",
       "    }\n",
       "</style>\n",
       "<table border=\"1\" class=\"dataframe\">\n",
       "  <thead>\n",
       "    <tr style=\"text-align: right;\">\n",
       "      <th></th>\n",
       "      <th>InvoiceNo</th>\n",
       "      <th>StockCode</th>\n",
       "      <th>Description</th>\n",
       "      <th>Quantity</th>\n",
       "      <th>InvoiceDate</th>\n",
       "      <th>UnitPrice</th>\n",
       "      <th>CustomerID</th>\n",
       "      <th>Country</th>\n",
       "    </tr>\n",
       "  </thead>\n",
       "  <tbody>\n",
       "    <tr>\n",
       "      <th>0</th>\n",
       "      <td>536365</td>\n",
       "      <td>85123A</td>\n",
       "      <td>WHITE HANGING HEART T-LIGHT HOLDER</td>\n",
       "      <td>6</td>\n",
       "      <td>12/1/2010 8:26</td>\n",
       "      <td>2.55</td>\n",
       "      <td>17850.0</td>\n",
       "      <td>United Kingdom</td>\n",
       "    </tr>\n",
       "    <tr>\n",
       "      <th>1</th>\n",
       "      <td>536365</td>\n",
       "      <td>71053</td>\n",
       "      <td>WHITE METAL LANTERN</td>\n",
       "      <td>6</td>\n",
       "      <td>12/1/2010 8:26</td>\n",
       "      <td>3.39</td>\n",
       "      <td>17850.0</td>\n",
       "      <td>United Kingdom</td>\n",
       "    </tr>\n",
       "    <tr>\n",
       "      <th>2</th>\n",
       "      <td>536365</td>\n",
       "      <td>84406B</td>\n",
       "      <td>CREAM CUPID HEARTS COAT HANGER</td>\n",
       "      <td>8</td>\n",
       "      <td>12/1/2010 8:26</td>\n",
       "      <td>2.75</td>\n",
       "      <td>17850.0</td>\n",
       "      <td>United Kingdom</td>\n",
       "    </tr>\n",
       "    <tr>\n",
       "      <th>3</th>\n",
       "      <td>536365</td>\n",
       "      <td>84029G</td>\n",
       "      <td>KNITTED UNION FLAG HOT WATER BOTTLE</td>\n",
       "      <td>6</td>\n",
       "      <td>12/1/2010 8:26</td>\n",
       "      <td>3.39</td>\n",
       "      <td>17850.0</td>\n",
       "      <td>United Kingdom</td>\n",
       "    </tr>\n",
       "    <tr>\n",
       "      <th>4</th>\n",
       "      <td>536365</td>\n",
       "      <td>84029E</td>\n",
       "      <td>RED WOOLLY HOTTIE WHITE HEART.</td>\n",
       "      <td>6</td>\n",
       "      <td>12/1/2010 8:26</td>\n",
       "      <td>3.39</td>\n",
       "      <td>17850.0</td>\n",
       "      <td>United Kingdom</td>\n",
       "    </tr>\n",
       "  </tbody>\n",
       "</table>\n",
       "</div>"
      ],
      "text/plain": [
       "  InvoiceNo StockCode                          Description  Quantity  \\\n",
       "0    536365    85123A   WHITE HANGING HEART T-LIGHT HOLDER         6   \n",
       "1    536365     71053                  WHITE METAL LANTERN         6   \n",
       "2    536365    84406B       CREAM CUPID HEARTS COAT HANGER         8   \n",
       "3    536365    84029G  KNITTED UNION FLAG HOT WATER BOTTLE         6   \n",
       "4    536365    84029E       RED WOOLLY HOTTIE WHITE HEART.         6   \n",
       "\n",
       "      InvoiceDate  UnitPrice  CustomerID         Country  \n",
       "0  12/1/2010 8:26       2.55     17850.0  United Kingdom  \n",
       "1  12/1/2010 8:26       3.39     17850.0  United Kingdom  \n",
       "2  12/1/2010 8:26       2.75     17850.0  United Kingdom  \n",
       "3  12/1/2010 8:26       3.39     17850.0  United Kingdom  \n",
       "4  12/1/2010 8:26       3.39     17850.0  United Kingdom  "
      ]
     },
     "execution_count": 18,
     "metadata": {},
     "output_type": "execute_result"
    }
   ],
   "source": [
    "#read data from csv and redo the data work we done before\n",
    "data.head()"
   ]
  },
  {
   "cell_type": "code",
   "execution_count": 19,
   "id": "41bc9223",
   "metadata": {},
   "outputs": [],
   "source": [
    "data = pd.read_csv('../data/customer_segmentation.csv', encoding='cp1252')"
   ]
  },
  {
   "cell_type": "markdown",
   "id": "202cd6de",
   "metadata": {},
   "source": [
    "# 2.1 Feature Engineering"
   ]
  },
  {
   "cell_type": "code",
   "execution_count": 20,
   "id": "2968fada",
   "metadata": {},
   "outputs": [],
   "source": [
    "#converting the type of Invoice Date Field from string to datetime.\n",
    "data['InvoiceDate'] = pd.to_datetime(data['InvoiceDate'])"
   ]
  },
  {
   "cell_type": "code",
   "execution_count": 21,
   "id": "e6503d2f",
   "metadata": {},
   "outputs": [],
   "source": [
    "#creating YearMonth field for the ease of reporting and visualization\n",
    "data['InvoiceYearMonth'] = data['InvoiceDate'].map(lambda date: 100*date.year + date.month)"
   ]
  },
  {
   "cell_type": "code",
   "execution_count": 22,
   "id": "84e59279",
   "metadata": {},
   "outputs": [
    {
     "data": {
      "text/html": [
       "<div>\n",
       "<style scoped>\n",
       "    .dataframe tbody tr th:only-of-type {\n",
       "        vertical-align: middle;\n",
       "    }\n",
       "\n",
       "    .dataframe tbody tr th {\n",
       "        vertical-align: top;\n",
       "    }\n",
       "\n",
       "    .dataframe thead th {\n",
       "        text-align: right;\n",
       "    }\n",
       "</style>\n",
       "<table border=\"1\" class=\"dataframe\">\n",
       "  <thead>\n",
       "    <tr style=\"text-align: right;\">\n",
       "      <th></th>\n",
       "      <th>Quantity</th>\n",
       "      <th>UnitPrice</th>\n",
       "      <th>CustomerID</th>\n",
       "      <th>InvoiceYearMonth</th>\n",
       "    </tr>\n",
       "  </thead>\n",
       "  <tbody>\n",
       "    <tr>\n",
       "      <th>count</th>\n",
       "      <td>541909.000000</td>\n",
       "      <td>541909.000000</td>\n",
       "      <td>406829.000000</td>\n",
       "      <td>541909.000000</td>\n",
       "    </tr>\n",
       "    <tr>\n",
       "      <th>mean</th>\n",
       "      <td>9.552250</td>\n",
       "      <td>4.611114</td>\n",
       "      <td>15287.690570</td>\n",
       "      <td>201099.713989</td>\n",
       "    </tr>\n",
       "    <tr>\n",
       "      <th>std</th>\n",
       "      <td>218.081158</td>\n",
       "      <td>96.759853</td>\n",
       "      <td>1713.600303</td>\n",
       "      <td>25.788703</td>\n",
       "    </tr>\n",
       "    <tr>\n",
       "      <th>min</th>\n",
       "      <td>-80995.000000</td>\n",
       "      <td>-11062.060000</td>\n",
       "      <td>12346.000000</td>\n",
       "      <td>201012.000000</td>\n",
       "    </tr>\n",
       "    <tr>\n",
       "      <th>25%</th>\n",
       "      <td>1.000000</td>\n",
       "      <td>1.250000</td>\n",
       "      <td>13953.000000</td>\n",
       "      <td>201103.000000</td>\n",
       "    </tr>\n",
       "    <tr>\n",
       "      <th>50%</th>\n",
       "      <td>3.000000</td>\n",
       "      <td>2.080000</td>\n",
       "      <td>15152.000000</td>\n",
       "      <td>201107.000000</td>\n",
       "    </tr>\n",
       "    <tr>\n",
       "      <th>75%</th>\n",
       "      <td>10.000000</td>\n",
       "      <td>4.130000</td>\n",
       "      <td>16791.000000</td>\n",
       "      <td>201110.000000</td>\n",
       "    </tr>\n",
       "    <tr>\n",
       "      <th>max</th>\n",
       "      <td>80995.000000</td>\n",
       "      <td>38970.000000</td>\n",
       "      <td>18287.000000</td>\n",
       "      <td>201112.000000</td>\n",
       "    </tr>\n",
       "  </tbody>\n",
       "</table>\n",
       "</div>"
      ],
      "text/plain": [
       "            Quantity      UnitPrice     CustomerID  InvoiceYearMonth\n",
       "count  541909.000000  541909.000000  406829.000000     541909.000000\n",
       "mean        9.552250       4.611114   15287.690570     201099.713989\n",
       "std       218.081158      96.759853    1713.600303         25.788703\n",
       "min    -80995.000000  -11062.060000   12346.000000     201012.000000\n",
       "25%         1.000000       1.250000   13953.000000     201103.000000\n",
       "50%         3.000000       2.080000   15152.000000     201107.000000\n",
       "75%        10.000000       4.130000   16791.000000     201110.000000\n",
       "max     80995.000000   38970.000000   18287.000000     201112.000000"
      ]
     },
     "execution_count": 22,
     "metadata": {},
     "output_type": "execute_result"
    }
   ],
   "source": [
    "data.describe()"
   ]
  },
  {
   "cell_type": "code",
   "execution_count": 23,
   "id": "78ebe873",
   "metadata": {},
   "outputs": [
    {
     "data": {
      "text/plain": [
       "United Kingdom          495478\n",
       "Germany                   9495\n",
       "France                    8557\n",
       "EIRE                      8196\n",
       "Spain                     2533\n",
       "Netherlands               2371\n",
       "Belgium                   2069\n",
       "Switzerland               2002\n",
       "Portugal                  1519\n",
       "Australia                 1259\n",
       "Norway                    1086\n",
       "Italy                      803\n",
       "Channel Islands            758\n",
       "Finland                    695\n",
       "Cyprus                     622\n",
       "Sweden                     462\n",
       "Unspecified                446\n",
       "Austria                    401\n",
       "Denmark                    389\n",
       "Japan                      358\n",
       "Poland                     341\n",
       "Israel                     297\n",
       "USA                        291\n",
       "Hong Kong                  288\n",
       "Singapore                  229\n",
       "Iceland                    182\n",
       "Canada                     151\n",
       "Greece                     146\n",
       "Malta                      127\n",
       "United Arab Emirates        68\n",
       "European Community          61\n",
       "RSA                         58\n",
       "Lebanon                     45\n",
       "Lithuania                   35\n",
       "Brazil                      32\n",
       "Czech Republic              30\n",
       "Bahrain                     19\n",
       "Saudi Arabia                10\n",
       "Name: Country, dtype: int64"
      ]
     },
     "execution_count": 23,
     "metadata": {},
     "output_type": "execute_result"
    }
   ],
   "source": [
    "data['Country'].value_counts()"
   ]
  },
  {
   "cell_type": "markdown",
   "id": "ade877ed",
   "metadata": {},
   "source": [
    "#### From here on, our focus will be exclusively on UK data, which contains the highest number of records. To determine the monthly active customers, we will count unique CustomerIDs. The analysis can also be extended to customers from other countries."
   ]
  },
  {
   "cell_type": "code",
   "execution_count": 24,
   "id": "d297fc69",
   "metadata": {},
   "outputs": [],
   "source": [
    "data_uk = data.query(\"Country=='United Kingdom'\").reset_index(drop=True)"
   ]
  },
  {
   "cell_type": "markdown",
   "id": "c8a9a6c6",
   "metadata": {},
   "source": [
    "## Segmentation Techniques:\n",
    "\n",
    "### To achieve specific goals, various segmentation methods can be employed. For instance, if the aim is to improve retention rate, segmentation based on churn probability can be utilized to take appropriate actions. Additionally, there are common and valuable segmentation methods available. One such method we will implement is RFM, which stands for Recency - Frequency - Monetary Value. The theoretical segments are as follows:\n",
    "\n",
    "* Low Value: Customers who are less active than others, not very frequent buyer/visitor and generates very low - zero - maybe negative revenue.\n",
    "\n",
    "* Mid Value: In the middle of everything. Often using our platform (but not as much as our High Values), fairly frequent and generates moderate revenue.\n",
    "\n",
    "* High Value: The group we don’t want to lose. High Revenue, Frequency and low Inactivity.\n",
    "\n",
    "#### To implement RFM clustering, we need to calculate Recency, Frequency, and Monetary Value (referred to as Revenue) and employ unsupervised machine learning to identify distinct clusters for each segment. Let's proceed with coding and explore the process of RFM clustering."
   ]
  },
  {
   "cell_type": "markdown",
   "id": "51c3b4c9",
   "metadata": {},
   "source": [
    "# Recency\n",
    "#### To calculate recency, we need to find out most recent purchase date of each customer and see how many days they are inactive for. After having no. of inactive days for each customer, we will apply K-means* clustering to assign customers a recency score."
   ]
  },
  {
   "cell_type": "code",
   "execution_count": 26,
   "id": "64aab265",
   "metadata": {},
   "outputs": [
    {
     "data": {
      "text/html": [
       "<div>\n",
       "<style scoped>\n",
       "    .dataframe tbody tr th:only-of-type {\n",
       "        vertical-align: middle;\n",
       "    }\n",
       "\n",
       "    .dataframe tbody tr th {\n",
       "        vertical-align: top;\n",
       "    }\n",
       "\n",
       "    .dataframe thead th {\n",
       "        text-align: right;\n",
       "    }\n",
       "</style>\n",
       "<table border=\"1\" class=\"dataframe\">\n",
       "  <thead>\n",
       "    <tr style=\"text-align: right;\">\n",
       "      <th></th>\n",
       "      <th>CustomerID</th>\n",
       "    </tr>\n",
       "  </thead>\n",
       "  <tbody>\n",
       "    <tr>\n",
       "      <th>0</th>\n",
       "      <td>17850.0</td>\n",
       "    </tr>\n",
       "    <tr>\n",
       "      <th>1</th>\n",
       "      <td>13047.0</td>\n",
       "    </tr>\n",
       "    <tr>\n",
       "      <th>2</th>\n",
       "      <td>12583.0</td>\n",
       "    </tr>\n",
       "    <tr>\n",
       "      <th>3</th>\n",
       "      <td>13748.0</td>\n",
       "    </tr>\n",
       "    <tr>\n",
       "      <th>4</th>\n",
       "      <td>15100.0</td>\n",
       "    </tr>\n",
       "  </tbody>\n",
       "</table>\n",
       "</div>"
      ],
      "text/plain": [
       "   CustomerID\n",
       "0     17850.0\n",
       "1     13047.0\n",
       "2     12583.0\n",
       "3     13748.0\n",
       "4     15100.0"
      ]
     },
     "execution_count": 26,
     "metadata": {},
     "output_type": "execute_result"
    }
   ],
   "source": [
    "#create a generic user dataframe to keep CustomerID and new segmentation scores\n",
    "data_user = pd.DataFrame(data['CustomerID'].unique())\n",
    "data_user.columns = ['CustomerID']\n",
    "data_user.head()"
   ]
  },
  {
   "cell_type": "code",
   "execution_count": 27,
   "id": "1adb5ee2",
   "metadata": {},
   "outputs": [
    {
     "data": {
      "text/html": [
       "<div>\n",
       "<style scoped>\n",
       "    .dataframe tbody tr th:only-of-type {\n",
       "        vertical-align: middle;\n",
       "    }\n",
       "\n",
       "    .dataframe tbody tr th {\n",
       "        vertical-align: top;\n",
       "    }\n",
       "\n",
       "    .dataframe thead th {\n",
       "        text-align: right;\n",
       "    }\n",
       "</style>\n",
       "<table border=\"1\" class=\"dataframe\">\n",
       "  <thead>\n",
       "    <tr style=\"text-align: right;\">\n",
       "      <th></th>\n",
       "      <th>InvoiceNo</th>\n",
       "      <th>StockCode</th>\n",
       "      <th>Description</th>\n",
       "      <th>Quantity</th>\n",
       "      <th>InvoiceDate</th>\n",
       "      <th>UnitPrice</th>\n",
       "      <th>CustomerID</th>\n",
       "      <th>Country</th>\n",
       "      <th>InvoiceYearMonth</th>\n",
       "    </tr>\n",
       "  </thead>\n",
       "  <tbody>\n",
       "    <tr>\n",
       "      <th>0</th>\n",
       "      <td>536365</td>\n",
       "      <td>85123A</td>\n",
       "      <td>WHITE HANGING HEART T-LIGHT HOLDER</td>\n",
       "      <td>6</td>\n",
       "      <td>2010-12-01 08:26:00</td>\n",
       "      <td>2.55</td>\n",
       "      <td>17850.0</td>\n",
       "      <td>United Kingdom</td>\n",
       "      <td>201012</td>\n",
       "    </tr>\n",
       "    <tr>\n",
       "      <th>1</th>\n",
       "      <td>536365</td>\n",
       "      <td>71053</td>\n",
       "      <td>WHITE METAL LANTERN</td>\n",
       "      <td>6</td>\n",
       "      <td>2010-12-01 08:26:00</td>\n",
       "      <td>3.39</td>\n",
       "      <td>17850.0</td>\n",
       "      <td>United Kingdom</td>\n",
       "      <td>201012</td>\n",
       "    </tr>\n",
       "    <tr>\n",
       "      <th>2</th>\n",
       "      <td>536365</td>\n",
       "      <td>84406B</td>\n",
       "      <td>CREAM CUPID HEARTS COAT HANGER</td>\n",
       "      <td>8</td>\n",
       "      <td>2010-12-01 08:26:00</td>\n",
       "      <td>2.75</td>\n",
       "      <td>17850.0</td>\n",
       "      <td>United Kingdom</td>\n",
       "      <td>201012</td>\n",
       "    </tr>\n",
       "    <tr>\n",
       "      <th>3</th>\n",
       "      <td>536365</td>\n",
       "      <td>84029G</td>\n",
       "      <td>KNITTED UNION FLAG HOT WATER BOTTLE</td>\n",
       "      <td>6</td>\n",
       "      <td>2010-12-01 08:26:00</td>\n",
       "      <td>3.39</td>\n",
       "      <td>17850.0</td>\n",
       "      <td>United Kingdom</td>\n",
       "      <td>201012</td>\n",
       "    </tr>\n",
       "    <tr>\n",
       "      <th>4</th>\n",
       "      <td>536365</td>\n",
       "      <td>84029E</td>\n",
       "      <td>RED WOOLLY HOTTIE WHITE HEART.</td>\n",
       "      <td>6</td>\n",
       "      <td>2010-12-01 08:26:00</td>\n",
       "      <td>3.39</td>\n",
       "      <td>17850.0</td>\n",
       "      <td>United Kingdom</td>\n",
       "      <td>201012</td>\n",
       "    </tr>\n",
       "  </tbody>\n",
       "</table>\n",
       "</div>"
      ],
      "text/plain": [
       "  InvoiceNo StockCode                          Description  Quantity  \\\n",
       "0    536365    85123A   WHITE HANGING HEART T-LIGHT HOLDER         6   \n",
       "1    536365     71053                  WHITE METAL LANTERN         6   \n",
       "2    536365    84406B       CREAM CUPID HEARTS COAT HANGER         8   \n",
       "3    536365    84029G  KNITTED UNION FLAG HOT WATER BOTTLE         6   \n",
       "4    536365    84029E       RED WOOLLY HOTTIE WHITE HEART.         6   \n",
       "\n",
       "          InvoiceDate  UnitPrice  CustomerID         Country  InvoiceYearMonth  \n",
       "0 2010-12-01 08:26:00       2.55     17850.0  United Kingdom            201012  \n",
       "1 2010-12-01 08:26:00       3.39     17850.0  United Kingdom            201012  \n",
       "2 2010-12-01 08:26:00       2.75     17850.0  United Kingdom            201012  \n",
       "3 2010-12-01 08:26:00       3.39     17850.0  United Kingdom            201012  \n",
       "4 2010-12-01 08:26:00       3.39     17850.0  United Kingdom            201012  "
      ]
     },
     "execution_count": 27,
     "metadata": {},
     "output_type": "execute_result"
    }
   ],
   "source": [
    "data_uk.head()"
   ]
  },
  {
   "cell_type": "markdown",
   "id": "101bf0b1",
   "metadata": {},
   "source": [
    "#### Since we are calculating recency, we need to know when last the person bought something. Let us calculate the last date of transaction for a person."
   ]
  },
  {
   "cell_type": "code",
   "execution_count": 28,
   "id": "9b73b111",
   "metadata": {},
   "outputs": [
    {
     "data": {
      "text/html": [
       "<div>\n",
       "<style scoped>\n",
       "    .dataframe tbody tr th:only-of-type {\n",
       "        vertical-align: middle;\n",
       "    }\n",
       "\n",
       "    .dataframe tbody tr th {\n",
       "        vertical-align: top;\n",
       "    }\n",
       "\n",
       "    .dataframe thead th {\n",
       "        text-align: right;\n",
       "    }\n",
       "</style>\n",
       "<table border=\"1\" class=\"dataframe\">\n",
       "  <thead>\n",
       "    <tr style=\"text-align: right;\">\n",
       "      <th></th>\n",
       "      <th>CustomerID</th>\n",
       "      <th>MaxPurchaseDate</th>\n",
       "    </tr>\n",
       "  </thead>\n",
       "  <tbody>\n",
       "    <tr>\n",
       "      <th>0</th>\n",
       "      <td>12346.0</td>\n",
       "      <td>2011-01-18 10:17:00</td>\n",
       "    </tr>\n",
       "    <tr>\n",
       "      <th>1</th>\n",
       "      <td>12747.0</td>\n",
       "      <td>2011-12-07 14:34:00</td>\n",
       "    </tr>\n",
       "    <tr>\n",
       "      <th>2</th>\n",
       "      <td>12748.0</td>\n",
       "      <td>2011-12-09 12:20:00</td>\n",
       "    </tr>\n",
       "    <tr>\n",
       "      <th>3</th>\n",
       "      <td>12749.0</td>\n",
       "      <td>2011-12-06 09:56:00</td>\n",
       "    </tr>\n",
       "    <tr>\n",
       "      <th>4</th>\n",
       "      <td>12820.0</td>\n",
       "      <td>2011-12-06 15:12:00</td>\n",
       "    </tr>\n",
       "  </tbody>\n",
       "</table>\n",
       "</div>"
      ],
      "text/plain": [
       "   CustomerID     MaxPurchaseDate\n",
       "0     12346.0 2011-01-18 10:17:00\n",
       "1     12747.0 2011-12-07 14:34:00\n",
       "2     12748.0 2011-12-09 12:20:00\n",
       "3     12749.0 2011-12-06 09:56:00\n",
       "4     12820.0 2011-12-06 15:12:00"
      ]
     },
     "execution_count": 28,
     "metadata": {},
     "output_type": "execute_result"
    }
   ],
   "source": [
    "#get the max purchase date for each customer and create a dataframe with it\n",
    "data_max_purchase = data_uk.groupby('CustomerID').InvoiceDate.max().reset_index()\n",
    "data_max_purchase.columns = ['CustomerID','MaxPurchaseDate']\n",
    "data_max_purchase.head()"
   ]
  },
  {
   "cell_type": "code",
   "execution_count": 29,
   "id": "e1159e02",
   "metadata": {},
   "outputs": [
    {
     "data": {
      "text/html": [
       "<div>\n",
       "<style scoped>\n",
       "    .dataframe tbody tr th:only-of-type {\n",
       "        vertical-align: middle;\n",
       "    }\n",
       "\n",
       "    .dataframe tbody tr th {\n",
       "        vertical-align: top;\n",
       "    }\n",
       "\n",
       "    .dataframe thead th {\n",
       "        text-align: right;\n",
       "    }\n",
       "</style>\n",
       "<table border=\"1\" class=\"dataframe\">\n",
       "  <thead>\n",
       "    <tr style=\"text-align: right;\">\n",
       "      <th></th>\n",
       "      <th>CustomerID</th>\n",
       "      <th>MaxPurchaseDate</th>\n",
       "      <th>Recency</th>\n",
       "    </tr>\n",
       "  </thead>\n",
       "  <tbody>\n",
       "    <tr>\n",
       "      <th>0</th>\n",
       "      <td>12346.0</td>\n",
       "      <td>2011-01-18 10:17:00</td>\n",
       "      <td>325</td>\n",
       "    </tr>\n",
       "    <tr>\n",
       "      <th>1</th>\n",
       "      <td>12747.0</td>\n",
       "      <td>2011-12-07 14:34:00</td>\n",
       "      <td>1</td>\n",
       "    </tr>\n",
       "    <tr>\n",
       "      <th>2</th>\n",
       "      <td>12748.0</td>\n",
       "      <td>2011-12-09 12:20:00</td>\n",
       "      <td>0</td>\n",
       "    </tr>\n",
       "    <tr>\n",
       "      <th>3</th>\n",
       "      <td>12749.0</td>\n",
       "      <td>2011-12-06 09:56:00</td>\n",
       "      <td>3</td>\n",
       "    </tr>\n",
       "    <tr>\n",
       "      <th>4</th>\n",
       "      <td>12820.0</td>\n",
       "      <td>2011-12-06 15:12:00</td>\n",
       "      <td>2</td>\n",
       "    </tr>\n",
       "  </tbody>\n",
       "</table>\n",
       "</div>"
      ],
      "text/plain": [
       "   CustomerID     MaxPurchaseDate  Recency\n",
       "0     12346.0 2011-01-18 10:17:00      325\n",
       "1     12747.0 2011-12-07 14:34:00        1\n",
       "2     12748.0 2011-12-09 12:20:00        0\n",
       "3     12749.0 2011-12-06 09:56:00        3\n",
       "4     12820.0 2011-12-06 15:12:00        2"
      ]
     },
     "execution_count": 29,
     "metadata": {},
     "output_type": "execute_result"
    }
   ],
   "source": [
    "# Compare the last transaction of the dataset with last transaction dates of the individual customer IDs.\n",
    "data_max_purchase['Recency'] = (data_max_purchase['MaxPurchaseDate'].max() - data_max_purchase['MaxPurchaseDate']).dt.days\n",
    "data_max_purchase.head()"
   ]
  },
  {
   "cell_type": "code",
   "execution_count": 30,
   "id": "5c58663c",
   "metadata": {},
   "outputs": [
    {
     "data": {
      "text/html": [
       "<div>\n",
       "<style scoped>\n",
       "    .dataframe tbody tr th:only-of-type {\n",
       "        vertical-align: middle;\n",
       "    }\n",
       "\n",
       "    .dataframe tbody tr th {\n",
       "        vertical-align: top;\n",
       "    }\n",
       "\n",
       "    .dataframe thead th {\n",
       "        text-align: right;\n",
       "    }\n",
       "</style>\n",
       "<table border=\"1\" class=\"dataframe\">\n",
       "  <thead>\n",
       "    <tr style=\"text-align: right;\">\n",
       "      <th></th>\n",
       "      <th>CustomerID</th>\n",
       "      <th>Recency</th>\n",
       "    </tr>\n",
       "  </thead>\n",
       "  <tbody>\n",
       "    <tr>\n",
       "      <th>0</th>\n",
       "      <td>17850.0</td>\n",
       "      <td>301</td>\n",
       "    </tr>\n",
       "    <tr>\n",
       "      <th>1</th>\n",
       "      <td>13047.0</td>\n",
       "      <td>31</td>\n",
       "    </tr>\n",
       "    <tr>\n",
       "      <th>2</th>\n",
       "      <td>13748.0</td>\n",
       "      <td>95</td>\n",
       "    </tr>\n",
       "    <tr>\n",
       "      <th>3</th>\n",
       "      <td>15100.0</td>\n",
       "      <td>329</td>\n",
       "    </tr>\n",
       "    <tr>\n",
       "      <th>4</th>\n",
       "      <td>15291.0</td>\n",
       "      <td>25</td>\n",
       "    </tr>\n",
       "  </tbody>\n",
       "</table>\n",
       "</div>"
      ],
      "text/plain": [
       "   CustomerID  Recency\n",
       "0     17850.0      301\n",
       "1     13047.0       31\n",
       "2     13748.0       95\n",
       "3     15100.0      329\n",
       "4     15291.0       25"
      ]
     },
     "execution_count": 30,
     "metadata": {},
     "output_type": "execute_result"
    }
   ],
   "source": [
    "#merge this dataframe to our new user dataframe\n",
    "data_user = pd.merge(data_user, data_max_purchase[['CustomerID','Recency']], on='CustomerID')\n",
    "data_user.head()"
   ]
  },
  {
   "cell_type": "markdown",
   "id": "5337ca30",
   "metadata": {},
   "source": [
    "# 3.1 Assigning a recency score\n",
    "#### We are going to apply K-means clustering to assign a recency score. But we should tell how many clusters we need to K-means algorithm. To find it out, we will apply Elbow Method. Elbow Method simply tells the optimal cluster number for optimal inertia. Code snippet and Inertia graph are as follows:"
   ]
  },
  {
   "cell_type": "code",
   "execution_count": 32,
   "id": "978da48c",
   "metadata": {},
   "outputs": [
    {
     "ename": "ModuleNotFoundError",
     "evalue": "No module named 'sklearn'",
     "output_type": "error",
     "traceback": [
      "\u001B[0;31m---------------------------------------------------------------------------\u001B[0m",
      "\u001B[0;31mModuleNotFoundError\u001B[0m                       Traceback (most recent call last)",
      "Cell \u001B[0;32mIn[32], line 1\u001B[0m\n\u001B[0;32m----> 1\u001B[0m \u001B[38;5;28;01mfrom\u001B[39;00m \u001B[38;5;21;01msklearn\u001B[39;00m\u001B[38;5;21;01m.\u001B[39;00m\u001B[38;5;21;01mcluster\u001B[39;00m \u001B[38;5;28;01mimport\u001B[39;00m KMeans\n\u001B[1;32m      3\u001B[0m sse\u001B[38;5;241m=\u001B[39m{} \u001B[38;5;66;03m# error\u001B[39;00m\n\u001B[1;32m      4\u001B[0m data_recency \u001B[38;5;241m=\u001B[39m data_user[[\u001B[38;5;124m'\u001B[39m\u001B[38;5;124mRecency\u001B[39m\u001B[38;5;124m'\u001B[39m]]\n",
      "\u001B[0;31mModuleNotFoundError\u001B[0m: No module named 'sklearn'"
     ]
    }
   ],
   "source": [
    "from sklearn.cluster import KMeans\n",
    "\n",
    "sse={} # error\n",
    "data_recency = data_user[['Recency']]\n",
    "for k in range(1, 10):\n",
    "    kmeans = KMeans(n_clusters=k, max_iter=1000).fit(data_recency)\n",
    "    data_recency[\"clusters\"] = kmeans.labels_  #cluster names corresponding to recency values \n",
    "    sse[k] = kmeans.inertia_ #sse corresponding to clusters\n",
    "plt.figure()\n",
    "plt.plot(list(sse.keys()), list(sse.values()))\n",
    "plt.xlabel(\"Number of cluster\")\n",
    "plt.show()"
   ]
  },
  {
   "cell_type": "markdown",
   "id": "b202a390",
   "metadata": {},
   "source": [
    "#### Here it looks like 3 is the optimal one. Based on business requirements, we can go ahead with less or more clusters. We will be selecting 4 for this example"
   ]
  },
  {
   "cell_type": "code",
   "execution_count": 33,
   "id": "ad14c980",
   "metadata": {},
   "outputs": [
    {
     "ename": "NameError",
     "evalue": "name 'KMeans' is not defined",
     "output_type": "error",
     "traceback": [
      "\u001B[0;31m---------------------------------------------------------------------------\u001B[0m",
      "\u001B[0;31mNameError\u001B[0m                                 Traceback (most recent call last)",
      "Cell \u001B[0;32mIn[33], line 2\u001B[0m\n\u001B[1;32m      1\u001B[0m \u001B[38;5;66;03m#build 4 clusters for recency and add it to dataframe\u001B[39;00m\n\u001B[0;32m----> 2\u001B[0m kmeans \u001B[38;5;241m=\u001B[39m \u001B[43mKMeans\u001B[49m(n_clusters\u001B[38;5;241m=\u001B[39m\u001B[38;5;241m4\u001B[39m)\n\u001B[1;32m      3\u001B[0m data_user[\u001B[38;5;124m'\u001B[39m\u001B[38;5;124mRecencyCluster\u001B[39m\u001B[38;5;124m'\u001B[39m] \u001B[38;5;241m=\u001B[39m kmeans\u001B[38;5;241m.\u001B[39mfit_predict(data_user[[\u001B[38;5;124m'\u001B[39m\u001B[38;5;124mRecency\u001B[39m\u001B[38;5;124m'\u001B[39m]])\n",
      "\u001B[0;31mNameError\u001B[0m: name 'KMeans' is not defined"
     ]
    }
   ],
   "source": [
    "#build 4 clusters for recency and add it to dataframe\n",
    "kmeans = KMeans(n_clusters=4)\n",
    "data_user['RecencyCluster'] = kmeans.fit_predict(data_user[['Recency']])"
   ]
  },
  {
   "cell_type": "code",
   "execution_count": 34,
   "id": "0d02613b",
   "metadata": {},
   "outputs": [
    {
     "data": {
      "text/html": [
       "<div>\n",
       "<style scoped>\n",
       "    .dataframe tbody tr th:only-of-type {\n",
       "        vertical-align: middle;\n",
       "    }\n",
       "\n",
       "    .dataframe tbody tr th {\n",
       "        vertical-align: top;\n",
       "    }\n",
       "\n",
       "    .dataframe thead th {\n",
       "        text-align: right;\n",
       "    }\n",
       "</style>\n",
       "<table border=\"1\" class=\"dataframe\">\n",
       "  <thead>\n",
       "    <tr style=\"text-align: right;\">\n",
       "      <th></th>\n",
       "      <th>CustomerID</th>\n",
       "      <th>Recency</th>\n",
       "    </tr>\n",
       "  </thead>\n",
       "  <tbody>\n",
       "    <tr>\n",
       "      <th>0</th>\n",
       "      <td>17850.0</td>\n",
       "      <td>301</td>\n",
       "    </tr>\n",
       "    <tr>\n",
       "      <th>1</th>\n",
       "      <td>13047.0</td>\n",
       "      <td>31</td>\n",
       "    </tr>\n",
       "    <tr>\n",
       "      <th>2</th>\n",
       "      <td>13748.0</td>\n",
       "      <td>95</td>\n",
       "    </tr>\n",
       "    <tr>\n",
       "      <th>3</th>\n",
       "      <td>15100.0</td>\n",
       "      <td>329</td>\n",
       "    </tr>\n",
       "    <tr>\n",
       "      <th>4</th>\n",
       "      <td>15291.0</td>\n",
       "      <td>25</td>\n",
       "    </tr>\n",
       "  </tbody>\n",
       "</table>\n",
       "</div>"
      ],
      "text/plain": [
       "   CustomerID  Recency\n",
       "0     17850.0      301\n",
       "1     13047.0       31\n",
       "2     13748.0       95\n",
       "3     15100.0      329\n",
       "4     15291.0       25"
      ]
     },
     "execution_count": 34,
     "metadata": {},
     "output_type": "execute_result"
    }
   ],
   "source": [
    "data_user.head()"
   ]
  },
  {
   "cell_type": "code",
   "execution_count": 35,
   "id": "3e6c9612",
   "metadata": {},
   "outputs": [
    {
     "ename": "NameError",
     "evalue": "name 'datauser' is not defined",
     "output_type": "error",
     "traceback": [
      "\u001B[0;31m---------------------------------------------------------------------------\u001B[0m",
      "\u001B[0;31mNameError\u001B[0m                                 Traceback (most recent call last)",
      "Cell \u001B[0;32mIn[35], line 1\u001B[0m\n\u001B[0;32m----> 1\u001B[0m \u001B[43mdatauser\u001B[49m\u001B[38;5;241m.\u001B[39mgroupby(\u001B[38;5;124m'\u001B[39m\u001B[38;5;124mRecencyCluster\u001B[39m\u001B[38;5;124m'\u001B[39m)[\u001B[38;5;124m'\u001B[39m\u001B[38;5;124mRecency\u001B[39m\u001B[38;5;124m'\u001B[39m]\u001B[38;5;241m.\u001B[39mdescribe()\n",
      "\u001B[0;31mNameError\u001B[0m: name 'datauser' is not defined"
     ]
    }
   ],
   "source": [
    "datauser.groupby('RecencyCluster')['Recency'].describe()"
   ]
  },
  {
   "cell_type": "markdown",
   "id": "29bab4fc",
   "metadata": {},
   "source": [
    "# 3.2 Ordering clusters"
   ]
  },
  {
   "cell_type": "code",
   "execution_count": 36,
   "id": "8f2b92ae",
   "metadata": {},
   "outputs": [
    {
     "ename": "KeyError",
     "evalue": "'RecencyCluster'",
     "output_type": "error",
     "traceback": [
      "\u001B[0;31m---------------------------------------------------------------------------\u001B[0m",
      "\u001B[0;31mKeyError\u001B[0m                                  Traceback (most recent call last)",
      "Cell \u001B[0;32mIn[36], line 12\u001B[0m\n\u001B[1;32m      9\u001B[0m     df_final \u001B[38;5;241m=\u001B[39m df_final\u001B[38;5;241m.\u001B[39mrename(columns\u001B[38;5;241m=\u001B[39m{\u001B[38;5;124m\"\u001B[39m\u001B[38;5;124mindex\u001B[39m\u001B[38;5;124m\"\u001B[39m:cluster_field_name})\n\u001B[1;32m     10\u001B[0m     \u001B[38;5;28;01mreturn\u001B[39;00m df_final\n\u001B[0;32m---> 12\u001B[0m data_user \u001B[38;5;241m=\u001B[39m \u001B[43morder_cluster\u001B[49m\u001B[43m(\u001B[49m\u001B[38;5;124;43m'\u001B[39;49m\u001B[38;5;124;43mRecencyCluster\u001B[39;49m\u001B[38;5;124;43m'\u001B[39;49m\u001B[43m,\u001B[49m\u001B[43m \u001B[49m\u001B[38;5;124;43m'\u001B[39;49m\u001B[38;5;124;43mRecency\u001B[39;49m\u001B[38;5;124;43m'\u001B[39;49m\u001B[43m,\u001B[49m\u001B[43mdata_user\u001B[49m\u001B[43m,\u001B[49m\u001B[38;5;28;43;01mFalse\u001B[39;49;00m\u001B[43m)\u001B[49m\n",
      "Cell \u001B[0;32mIn[36], line 4\u001B[0m, in \u001B[0;36morder_cluster\u001B[0;34m(cluster_field_name, target_field_name, df, ascending)\u001B[0m\n\u001B[1;32m      2\u001B[0m \u001B[38;5;28;01mdef\u001B[39;00m \u001B[38;5;21morder_cluster\u001B[39m(cluster_field_name, target_field_name,df,ascending):\n\u001B[1;32m      3\u001B[0m     new_cluster_field_name \u001B[38;5;241m=\u001B[39m \u001B[38;5;124m'\u001B[39m\u001B[38;5;124mnew_\u001B[39m\u001B[38;5;124m'\u001B[39m \u001B[38;5;241m+\u001B[39m cluster_field_name\n\u001B[0;32m----> 4\u001B[0m     df_new \u001B[38;5;241m=\u001B[39m \u001B[43mdf\u001B[49m\u001B[38;5;241;43m.\u001B[39;49m\u001B[43mgroupby\u001B[49m\u001B[43m(\u001B[49m\u001B[43mcluster_field_name\u001B[49m\u001B[43m)\u001B[49m[target_field_name]\u001B[38;5;241m.\u001B[39mmean()\u001B[38;5;241m.\u001B[39mreset_index()\n\u001B[1;32m      5\u001B[0m     df_new \u001B[38;5;241m=\u001B[39m df_new\u001B[38;5;241m.\u001B[39msort_values(by\u001B[38;5;241m=\u001B[39mtarget_field_name,ascending\u001B[38;5;241m=\u001B[39mascending)\u001B[38;5;241m.\u001B[39mreset_index(drop\u001B[38;5;241m=\u001B[39m\u001B[38;5;28;01mTrue\u001B[39;00m)\n\u001B[1;32m      6\u001B[0m     df_new[\u001B[38;5;124m'\u001B[39m\u001B[38;5;124mindex\u001B[39m\u001B[38;5;124m'\u001B[39m] \u001B[38;5;241m=\u001B[39m df_new\u001B[38;5;241m.\u001B[39mindex\n",
      "File \u001B[0;32m/Library/Frameworks/Python.framework/Versions/3.10/lib/python3.10/site-packages/pandas/core/frame.py:8402\u001B[0m, in \u001B[0;36mDataFrame.groupby\u001B[0;34m(self, by, axis, level, as_index, sort, group_keys, squeeze, observed, dropna)\u001B[0m\n\u001B[1;32m   8399\u001B[0m     \u001B[38;5;28;01mraise\u001B[39;00m \u001B[38;5;167;01mTypeError\u001B[39;00m(\u001B[38;5;124m\"\u001B[39m\u001B[38;5;124mYou have to supply one of \u001B[39m\u001B[38;5;124m'\u001B[39m\u001B[38;5;124mby\u001B[39m\u001B[38;5;124m'\u001B[39m\u001B[38;5;124m and \u001B[39m\u001B[38;5;124m'\u001B[39m\u001B[38;5;124mlevel\u001B[39m\u001B[38;5;124m'\u001B[39m\u001B[38;5;124m\"\u001B[39m)\n\u001B[1;32m   8400\u001B[0m axis \u001B[38;5;241m=\u001B[39m \u001B[38;5;28mself\u001B[39m\u001B[38;5;241m.\u001B[39m_get_axis_number(axis)\n\u001B[0;32m-> 8402\u001B[0m \u001B[38;5;28;01mreturn\u001B[39;00m \u001B[43mDataFrameGroupBy\u001B[49m\u001B[43m(\u001B[49m\n\u001B[1;32m   8403\u001B[0m \u001B[43m    \u001B[49m\u001B[43mobj\u001B[49m\u001B[38;5;241;43m=\u001B[39;49m\u001B[38;5;28;43mself\u001B[39;49m\u001B[43m,\u001B[49m\n\u001B[1;32m   8404\u001B[0m \u001B[43m    \u001B[49m\u001B[43mkeys\u001B[49m\u001B[38;5;241;43m=\u001B[39;49m\u001B[43mby\u001B[49m\u001B[43m,\u001B[49m\n\u001B[1;32m   8405\u001B[0m \u001B[43m    \u001B[49m\u001B[43maxis\u001B[49m\u001B[38;5;241;43m=\u001B[39;49m\u001B[43maxis\u001B[49m\u001B[43m,\u001B[49m\n\u001B[1;32m   8406\u001B[0m \u001B[43m    \u001B[49m\u001B[43mlevel\u001B[49m\u001B[38;5;241;43m=\u001B[39;49m\u001B[43mlevel\u001B[49m\u001B[43m,\u001B[49m\n\u001B[1;32m   8407\u001B[0m \u001B[43m    \u001B[49m\u001B[43mas_index\u001B[49m\u001B[38;5;241;43m=\u001B[39;49m\u001B[43mas_index\u001B[49m\u001B[43m,\u001B[49m\n\u001B[1;32m   8408\u001B[0m \u001B[43m    \u001B[49m\u001B[43msort\u001B[49m\u001B[38;5;241;43m=\u001B[39;49m\u001B[43msort\u001B[49m\u001B[43m,\u001B[49m\n\u001B[1;32m   8409\u001B[0m \u001B[43m    \u001B[49m\u001B[43mgroup_keys\u001B[49m\u001B[38;5;241;43m=\u001B[39;49m\u001B[43mgroup_keys\u001B[49m\u001B[43m,\u001B[49m\n\u001B[1;32m   8410\u001B[0m \u001B[43m    \u001B[49m\u001B[43msqueeze\u001B[49m\u001B[38;5;241;43m=\u001B[39;49m\u001B[43msqueeze\u001B[49m\u001B[43m,\u001B[49m\n\u001B[1;32m   8411\u001B[0m \u001B[43m    \u001B[49m\u001B[43mobserved\u001B[49m\u001B[38;5;241;43m=\u001B[39;49m\u001B[43mobserved\u001B[49m\u001B[43m,\u001B[49m\n\u001B[1;32m   8412\u001B[0m \u001B[43m    \u001B[49m\u001B[43mdropna\u001B[49m\u001B[38;5;241;43m=\u001B[39;49m\u001B[43mdropna\u001B[49m\u001B[43m,\u001B[49m\n\u001B[1;32m   8413\u001B[0m \u001B[43m\u001B[49m\u001B[43m)\u001B[49m\n",
      "File \u001B[0;32m/Library/Frameworks/Python.framework/Versions/3.10/lib/python3.10/site-packages/pandas/core/groupby/groupby.py:965\u001B[0m, in \u001B[0;36mGroupBy.__init__\u001B[0;34m(self, obj, keys, axis, level, grouper, exclusions, selection, as_index, sort, group_keys, squeeze, observed, mutated, dropna)\u001B[0m\n\u001B[1;32m    962\u001B[0m \u001B[38;5;28;01mif\u001B[39;00m grouper \u001B[38;5;129;01mis\u001B[39;00m \u001B[38;5;28;01mNone\u001B[39;00m:\n\u001B[1;32m    963\u001B[0m     \u001B[38;5;28;01mfrom\u001B[39;00m \u001B[38;5;21;01mpandas\u001B[39;00m\u001B[38;5;21;01m.\u001B[39;00m\u001B[38;5;21;01mcore\u001B[39;00m\u001B[38;5;21;01m.\u001B[39;00m\u001B[38;5;21;01mgroupby\u001B[39;00m\u001B[38;5;21;01m.\u001B[39;00m\u001B[38;5;21;01mgrouper\u001B[39;00m \u001B[38;5;28;01mimport\u001B[39;00m get_grouper\n\u001B[0;32m--> 965\u001B[0m     grouper, exclusions, obj \u001B[38;5;241m=\u001B[39m \u001B[43mget_grouper\u001B[49m\u001B[43m(\u001B[49m\n\u001B[1;32m    966\u001B[0m \u001B[43m        \u001B[49m\u001B[43mobj\u001B[49m\u001B[43m,\u001B[49m\n\u001B[1;32m    967\u001B[0m \u001B[43m        \u001B[49m\u001B[43mkeys\u001B[49m\u001B[43m,\u001B[49m\n\u001B[1;32m    968\u001B[0m \u001B[43m        \u001B[49m\u001B[43maxis\u001B[49m\u001B[38;5;241;43m=\u001B[39;49m\u001B[43maxis\u001B[49m\u001B[43m,\u001B[49m\n\u001B[1;32m    969\u001B[0m \u001B[43m        \u001B[49m\u001B[43mlevel\u001B[49m\u001B[38;5;241;43m=\u001B[39;49m\u001B[43mlevel\u001B[49m\u001B[43m,\u001B[49m\n\u001B[1;32m    970\u001B[0m \u001B[43m        \u001B[49m\u001B[43msort\u001B[49m\u001B[38;5;241;43m=\u001B[39;49m\u001B[43msort\u001B[49m\u001B[43m,\u001B[49m\n\u001B[1;32m    971\u001B[0m \u001B[43m        \u001B[49m\u001B[43mobserved\u001B[49m\u001B[38;5;241;43m=\u001B[39;49m\u001B[43mobserved\u001B[49m\u001B[43m,\u001B[49m\n\u001B[1;32m    972\u001B[0m \u001B[43m        \u001B[49m\u001B[43mmutated\u001B[49m\u001B[38;5;241;43m=\u001B[39;49m\u001B[38;5;28;43mself\u001B[39;49m\u001B[38;5;241;43m.\u001B[39;49m\u001B[43mmutated\u001B[49m\u001B[43m,\u001B[49m\n\u001B[1;32m    973\u001B[0m \u001B[43m        \u001B[49m\u001B[43mdropna\u001B[49m\u001B[38;5;241;43m=\u001B[39;49m\u001B[38;5;28;43mself\u001B[39;49m\u001B[38;5;241;43m.\u001B[39;49m\u001B[43mdropna\u001B[49m\u001B[43m,\u001B[49m\n\u001B[1;32m    974\u001B[0m \u001B[43m    \u001B[49m\u001B[43m)\u001B[49m\n\u001B[1;32m    976\u001B[0m \u001B[38;5;28mself\u001B[39m\u001B[38;5;241m.\u001B[39mobj \u001B[38;5;241m=\u001B[39m obj\n\u001B[1;32m    977\u001B[0m \u001B[38;5;28mself\u001B[39m\u001B[38;5;241m.\u001B[39maxis \u001B[38;5;241m=\u001B[39m obj\u001B[38;5;241m.\u001B[39m_get_axis_number(axis)\n",
      "File \u001B[0;32m/Library/Frameworks/Python.framework/Versions/3.10/lib/python3.10/site-packages/pandas/core/groupby/grouper.py:888\u001B[0m, in \u001B[0;36mget_grouper\u001B[0;34m(obj, key, axis, level, sort, observed, mutated, validate, dropna)\u001B[0m\n\u001B[1;32m    886\u001B[0m         in_axis, level, gpr \u001B[38;5;241m=\u001B[39m \u001B[38;5;28;01mFalse\u001B[39;00m, gpr, \u001B[38;5;28;01mNone\u001B[39;00m\n\u001B[1;32m    887\u001B[0m     \u001B[38;5;28;01melse\u001B[39;00m:\n\u001B[0;32m--> 888\u001B[0m         \u001B[38;5;28;01mraise\u001B[39;00m \u001B[38;5;167;01mKeyError\u001B[39;00m(gpr)\n\u001B[1;32m    889\u001B[0m \u001B[38;5;28;01melif\u001B[39;00m \u001B[38;5;28misinstance\u001B[39m(gpr, Grouper) \u001B[38;5;129;01mand\u001B[39;00m gpr\u001B[38;5;241m.\u001B[39mkey \u001B[38;5;129;01mis\u001B[39;00m \u001B[38;5;129;01mnot\u001B[39;00m \u001B[38;5;28;01mNone\u001B[39;00m:\n\u001B[1;32m    890\u001B[0m     \u001B[38;5;66;03m# Add key to exclusions\u001B[39;00m\n\u001B[1;32m    891\u001B[0m     exclusions\u001B[38;5;241m.\u001B[39madd(gpr\u001B[38;5;241m.\u001B[39mkey)\n",
      "\u001B[0;31mKeyError\u001B[0m: 'RecencyCluster'"
     ]
    }
   ],
   "source": [
    "#function for ordering cluster numbers\n",
    "def order_cluster(cluster_field_name, target_field_name,df,ascending):\n",
    "    new_cluster_field_name = 'new_' + cluster_field_name\n",
    "    df_new = df.groupby(cluster_field_name)[target_field_name].mean().reset_index()\n",
    "    df_new = df_new.sort_values(by=target_field_name,ascending=ascending).reset_index(drop=True)\n",
    "    df_new['index'] = df_new.index\n",
    "    df_final = pd.merge(df,df_new[[cluster_field_name,'index']], on=cluster_field_name)\n",
    "    df_final = df_final.drop([cluster_field_name],axis=1)\n",
    "    df_final = df_final.rename(columns={\"index\":cluster_field_name})\n",
    "    return df_final\n",
    "\n",
    "data_user = order_cluster('RecencyCluster', 'Recency',data_user,False)"
   ]
  },
  {
   "cell_type": "code",
   "execution_count": 37,
   "id": "d4cff8f5",
   "metadata": {},
   "outputs": [
    {
     "data": {
      "text/html": [
       "<div>\n",
       "<style scoped>\n",
       "    .dataframe tbody tr th:only-of-type {\n",
       "        vertical-align: middle;\n",
       "    }\n",
       "\n",
       "    .dataframe tbody tr th {\n",
       "        vertical-align: top;\n",
       "    }\n",
       "\n",
       "    .dataframe thead th {\n",
       "        text-align: right;\n",
       "    }\n",
       "</style>\n",
       "<table border=\"1\" class=\"dataframe\">\n",
       "  <thead>\n",
       "    <tr style=\"text-align: right;\">\n",
       "      <th></th>\n",
       "      <th>CustomerID</th>\n",
       "      <th>Recency</th>\n",
       "    </tr>\n",
       "  </thead>\n",
       "  <tbody>\n",
       "    <tr>\n",
       "      <th>0</th>\n",
       "      <td>17850.0</td>\n",
       "      <td>301</td>\n",
       "    </tr>\n",
       "    <tr>\n",
       "      <th>1</th>\n",
       "      <td>13047.0</td>\n",
       "      <td>31</td>\n",
       "    </tr>\n",
       "    <tr>\n",
       "      <th>2</th>\n",
       "      <td>13748.0</td>\n",
       "      <td>95</td>\n",
       "    </tr>\n",
       "    <tr>\n",
       "      <th>3</th>\n",
       "      <td>15100.0</td>\n",
       "      <td>329</td>\n",
       "    </tr>\n",
       "    <tr>\n",
       "      <th>4</th>\n",
       "      <td>15291.0</td>\n",
       "      <td>25</td>\n",
       "    </tr>\n",
       "  </tbody>\n",
       "</table>\n",
       "</div>"
      ],
      "text/plain": [
       "   CustomerID  Recency\n",
       "0     17850.0      301\n",
       "1     13047.0       31\n",
       "2     13748.0       95\n",
       "3     15100.0      329\n",
       "4     15291.0       25"
      ]
     },
     "execution_count": 37,
     "metadata": {},
     "output_type": "execute_result"
    }
   ],
   "source": [
    "data_user.head()"
   ]
  },
  {
   "cell_type": "code",
   "execution_count": 38,
   "id": "9e86a804",
   "metadata": {},
   "outputs": [
    {
     "ename": "KeyError",
     "evalue": "'RecencyCluster'",
     "output_type": "error",
     "traceback": [
      "\u001B[0;31m---------------------------------------------------------------------------\u001B[0m",
      "\u001B[0;31mKeyError\u001B[0m                                  Traceback (most recent call last)",
      "Cell \u001B[0;32mIn[38], line 1\u001B[0m\n\u001B[0;32m----> 1\u001B[0m \u001B[43mdata_user\u001B[49m\u001B[38;5;241;43m.\u001B[39;49m\u001B[43mgroupby\u001B[49m\u001B[43m(\u001B[49m\u001B[38;5;124;43m'\u001B[39;49m\u001B[38;5;124;43mRecencyCluster\u001B[39;49m\u001B[38;5;124;43m'\u001B[39;49m\u001B[43m)\u001B[49m[\u001B[38;5;124m'\u001B[39m\u001B[38;5;124mRecency\u001B[39m\u001B[38;5;124m'\u001B[39m]\u001B[38;5;241m.\u001B[39mdescribe()\n",
      "File \u001B[0;32m/Library/Frameworks/Python.framework/Versions/3.10/lib/python3.10/site-packages/pandas/core/frame.py:8402\u001B[0m, in \u001B[0;36mDataFrame.groupby\u001B[0;34m(self, by, axis, level, as_index, sort, group_keys, squeeze, observed, dropna)\u001B[0m\n\u001B[1;32m   8399\u001B[0m     \u001B[38;5;28;01mraise\u001B[39;00m \u001B[38;5;167;01mTypeError\u001B[39;00m(\u001B[38;5;124m\"\u001B[39m\u001B[38;5;124mYou have to supply one of \u001B[39m\u001B[38;5;124m'\u001B[39m\u001B[38;5;124mby\u001B[39m\u001B[38;5;124m'\u001B[39m\u001B[38;5;124m and \u001B[39m\u001B[38;5;124m'\u001B[39m\u001B[38;5;124mlevel\u001B[39m\u001B[38;5;124m'\u001B[39m\u001B[38;5;124m\"\u001B[39m)\n\u001B[1;32m   8400\u001B[0m axis \u001B[38;5;241m=\u001B[39m \u001B[38;5;28mself\u001B[39m\u001B[38;5;241m.\u001B[39m_get_axis_number(axis)\n\u001B[0;32m-> 8402\u001B[0m \u001B[38;5;28;01mreturn\u001B[39;00m \u001B[43mDataFrameGroupBy\u001B[49m\u001B[43m(\u001B[49m\n\u001B[1;32m   8403\u001B[0m \u001B[43m    \u001B[49m\u001B[43mobj\u001B[49m\u001B[38;5;241;43m=\u001B[39;49m\u001B[38;5;28;43mself\u001B[39;49m\u001B[43m,\u001B[49m\n\u001B[1;32m   8404\u001B[0m \u001B[43m    \u001B[49m\u001B[43mkeys\u001B[49m\u001B[38;5;241;43m=\u001B[39;49m\u001B[43mby\u001B[49m\u001B[43m,\u001B[49m\n\u001B[1;32m   8405\u001B[0m \u001B[43m    \u001B[49m\u001B[43maxis\u001B[49m\u001B[38;5;241;43m=\u001B[39;49m\u001B[43maxis\u001B[49m\u001B[43m,\u001B[49m\n\u001B[1;32m   8406\u001B[0m \u001B[43m    \u001B[49m\u001B[43mlevel\u001B[49m\u001B[38;5;241;43m=\u001B[39;49m\u001B[43mlevel\u001B[49m\u001B[43m,\u001B[49m\n\u001B[1;32m   8407\u001B[0m \u001B[43m    \u001B[49m\u001B[43mas_index\u001B[49m\u001B[38;5;241;43m=\u001B[39;49m\u001B[43mas_index\u001B[49m\u001B[43m,\u001B[49m\n\u001B[1;32m   8408\u001B[0m \u001B[43m    \u001B[49m\u001B[43msort\u001B[49m\u001B[38;5;241;43m=\u001B[39;49m\u001B[43msort\u001B[49m\u001B[43m,\u001B[49m\n\u001B[1;32m   8409\u001B[0m \u001B[43m    \u001B[49m\u001B[43mgroup_keys\u001B[49m\u001B[38;5;241;43m=\u001B[39;49m\u001B[43mgroup_keys\u001B[49m\u001B[43m,\u001B[49m\n\u001B[1;32m   8410\u001B[0m \u001B[43m    \u001B[49m\u001B[43msqueeze\u001B[49m\u001B[38;5;241;43m=\u001B[39;49m\u001B[43msqueeze\u001B[49m\u001B[43m,\u001B[49m\n\u001B[1;32m   8411\u001B[0m \u001B[43m    \u001B[49m\u001B[43mobserved\u001B[49m\u001B[38;5;241;43m=\u001B[39;49m\u001B[43mobserved\u001B[49m\u001B[43m,\u001B[49m\n\u001B[1;32m   8412\u001B[0m \u001B[43m    \u001B[49m\u001B[43mdropna\u001B[49m\u001B[38;5;241;43m=\u001B[39;49m\u001B[43mdropna\u001B[49m\u001B[43m,\u001B[49m\n\u001B[1;32m   8413\u001B[0m \u001B[43m\u001B[49m\u001B[43m)\u001B[49m\n",
      "File \u001B[0;32m/Library/Frameworks/Python.framework/Versions/3.10/lib/python3.10/site-packages/pandas/core/groupby/groupby.py:965\u001B[0m, in \u001B[0;36mGroupBy.__init__\u001B[0;34m(self, obj, keys, axis, level, grouper, exclusions, selection, as_index, sort, group_keys, squeeze, observed, mutated, dropna)\u001B[0m\n\u001B[1;32m    962\u001B[0m \u001B[38;5;28;01mif\u001B[39;00m grouper \u001B[38;5;129;01mis\u001B[39;00m \u001B[38;5;28;01mNone\u001B[39;00m:\n\u001B[1;32m    963\u001B[0m     \u001B[38;5;28;01mfrom\u001B[39;00m \u001B[38;5;21;01mpandas\u001B[39;00m\u001B[38;5;21;01m.\u001B[39;00m\u001B[38;5;21;01mcore\u001B[39;00m\u001B[38;5;21;01m.\u001B[39;00m\u001B[38;5;21;01mgroupby\u001B[39;00m\u001B[38;5;21;01m.\u001B[39;00m\u001B[38;5;21;01mgrouper\u001B[39;00m \u001B[38;5;28;01mimport\u001B[39;00m get_grouper\n\u001B[0;32m--> 965\u001B[0m     grouper, exclusions, obj \u001B[38;5;241m=\u001B[39m \u001B[43mget_grouper\u001B[49m\u001B[43m(\u001B[49m\n\u001B[1;32m    966\u001B[0m \u001B[43m        \u001B[49m\u001B[43mobj\u001B[49m\u001B[43m,\u001B[49m\n\u001B[1;32m    967\u001B[0m \u001B[43m        \u001B[49m\u001B[43mkeys\u001B[49m\u001B[43m,\u001B[49m\n\u001B[1;32m    968\u001B[0m \u001B[43m        \u001B[49m\u001B[43maxis\u001B[49m\u001B[38;5;241;43m=\u001B[39;49m\u001B[43maxis\u001B[49m\u001B[43m,\u001B[49m\n\u001B[1;32m    969\u001B[0m \u001B[43m        \u001B[49m\u001B[43mlevel\u001B[49m\u001B[38;5;241;43m=\u001B[39;49m\u001B[43mlevel\u001B[49m\u001B[43m,\u001B[49m\n\u001B[1;32m    970\u001B[0m \u001B[43m        \u001B[49m\u001B[43msort\u001B[49m\u001B[38;5;241;43m=\u001B[39;49m\u001B[43msort\u001B[49m\u001B[43m,\u001B[49m\n\u001B[1;32m    971\u001B[0m \u001B[43m        \u001B[49m\u001B[43mobserved\u001B[49m\u001B[38;5;241;43m=\u001B[39;49m\u001B[43mobserved\u001B[49m\u001B[43m,\u001B[49m\n\u001B[1;32m    972\u001B[0m \u001B[43m        \u001B[49m\u001B[43mmutated\u001B[49m\u001B[38;5;241;43m=\u001B[39;49m\u001B[38;5;28;43mself\u001B[39;49m\u001B[38;5;241;43m.\u001B[39;49m\u001B[43mmutated\u001B[49m\u001B[43m,\u001B[49m\n\u001B[1;32m    973\u001B[0m \u001B[43m        \u001B[49m\u001B[43mdropna\u001B[49m\u001B[38;5;241;43m=\u001B[39;49m\u001B[38;5;28;43mself\u001B[39;49m\u001B[38;5;241;43m.\u001B[39;49m\u001B[43mdropna\u001B[49m\u001B[43m,\u001B[49m\n\u001B[1;32m    974\u001B[0m \u001B[43m    \u001B[49m\u001B[43m)\u001B[49m\n\u001B[1;32m    976\u001B[0m \u001B[38;5;28mself\u001B[39m\u001B[38;5;241m.\u001B[39mobj \u001B[38;5;241m=\u001B[39m obj\n\u001B[1;32m    977\u001B[0m \u001B[38;5;28mself\u001B[39m\u001B[38;5;241m.\u001B[39maxis \u001B[38;5;241m=\u001B[39m obj\u001B[38;5;241m.\u001B[39m_get_axis_number(axis)\n",
      "File \u001B[0;32m/Library/Frameworks/Python.framework/Versions/3.10/lib/python3.10/site-packages/pandas/core/groupby/grouper.py:888\u001B[0m, in \u001B[0;36mget_grouper\u001B[0;34m(obj, key, axis, level, sort, observed, mutated, validate, dropna)\u001B[0m\n\u001B[1;32m    886\u001B[0m         in_axis, level, gpr \u001B[38;5;241m=\u001B[39m \u001B[38;5;28;01mFalse\u001B[39;00m, gpr, \u001B[38;5;28;01mNone\u001B[39;00m\n\u001B[1;32m    887\u001B[0m     \u001B[38;5;28;01melse\u001B[39;00m:\n\u001B[0;32m--> 888\u001B[0m         \u001B[38;5;28;01mraise\u001B[39;00m \u001B[38;5;167;01mKeyError\u001B[39;00m(gpr)\n\u001B[1;32m    889\u001B[0m \u001B[38;5;28;01melif\u001B[39;00m \u001B[38;5;28misinstance\u001B[39m(gpr, Grouper) \u001B[38;5;129;01mand\u001B[39;00m gpr\u001B[38;5;241m.\u001B[39mkey \u001B[38;5;129;01mis\u001B[39;00m \u001B[38;5;129;01mnot\u001B[39;00m \u001B[38;5;28;01mNone\u001B[39;00m:\n\u001B[1;32m    890\u001B[0m     \u001B[38;5;66;03m# Add key to exclusions\u001B[39;00m\n\u001B[1;32m    891\u001B[0m     exclusions\u001B[38;5;241m.\u001B[39madd(gpr\u001B[38;5;241m.\u001B[39mkey)\n",
      "\u001B[0;31mKeyError\u001B[0m: 'RecencyCluster'"
     ]
    }
   ],
   "source": [
    "data_user.groupby('RecencyCluster')['Recency'].describe()"
   ]
  },
  {
   "cell_type": "markdown",
   "id": "5a354087",
   "metadata": {},
   "source": [
    "# 4. Frequency"
   ]
  },
  {
   "cell_type": "code",
   "execution_count": null,
   "id": "8000a137",
   "metadata": {},
   "outputs": [],
   "source": [
    "#get order counts for each user and create a dataframe with it\n",
    "data_frequency = data_uk.groupby('CustomerID').InvoiceDate.count().reset_index()\n",
    "data_frequency.columns = ['CustomerID','Frequency']"
   ]
  },
  {
   "cell_type": "code",
   "execution_count": null,
   "id": "15f55df7",
   "metadata": {},
   "outputs": [],
   "source": [
    "data_frequency.head() #how many orders does a customer have"
   ]
  },
  {
   "cell_type": "code",
   "execution_count": null,
   "id": "ef262ec9",
   "metadata": {},
   "outputs": [],
   "source": [
    "#add this data to our main dataframe\n",
    "data_user = pd.merge(data_user, data_frequency, on='CustomerID')\n",
    "\n",
    "data_user.head()"
   ]
  },
  {
   "cell_type": "markdown",
   "id": "3976fc8d",
   "metadata": {},
   "source": [
    "# 4.1 Frequency clusters\n",
    "#### Determine the right number of clusters for K-Means by elbow method"
   ]
  },
  {
   "cell_type": "code",
   "execution_count": 39,
   "id": "c75e07c3",
   "metadata": {},
   "outputs": [
    {
     "ename": "ModuleNotFoundError",
     "evalue": "No module named 'sklearn'",
     "output_type": "error",
     "traceback": [
      "\u001B[0;31m---------------------------------------------------------------------------\u001B[0m",
      "\u001B[0;31mModuleNotFoundError\u001B[0m                       Traceback (most recent call last)",
      "Cell \u001B[0;32mIn[39], line 1\u001B[0m\n\u001B[0;32m----> 1\u001B[0m \u001B[38;5;28;01mfrom\u001B[39;00m \u001B[38;5;21;01msklearn\u001B[39;00m\u001B[38;5;21;01m.\u001B[39;00m\u001B[38;5;21;01mcluster\u001B[39;00m \u001B[38;5;28;01mimport\u001B[39;00m KMeans\n\u001B[1;32m      3\u001B[0m sse\u001B[38;5;241m=\u001B[39m{} \u001B[38;5;66;03m# error\u001B[39;00m\n\u001B[1;32m      4\u001B[0m tx_recency \u001B[38;5;241m=\u001B[39m tx_user[[\u001B[38;5;124m'\u001B[39m\u001B[38;5;124mFrequency\u001B[39m\u001B[38;5;124m'\u001B[39m]]\n",
      "\u001B[0;31mModuleNotFoundError\u001B[0m: No module named 'sklearn'"
     ]
    }
   ],
   "source": [
    "from sklearn.cluster import KMeans\n",
    "\n",
    "sse={} # error\n",
    "data_recency = data_user[['Frequency']]\n",
    "for k in range(1, 10):\n",
    "    kmeans = KMeans(n_clusters=k, max_iter=1000).fit(data_recency)\n",
    "    data_recency[\"clusters\"] = kmeans.labels_  #cluster names corresponding to recency values \n",
    "    sse[k] = kmeans.inertia_ #sse corresponding to clusters\n",
    "plt.figure()\n",
    "plt.plot(list(sse.keys()), list(sse.values()))\n",
    "plt.xlabel(\"Number of cluster\")\n",
    "plt.show()"
   ]
  },
  {
   "cell_type": "code",
   "execution_count": null,
   "id": "dfe61c3c",
   "metadata": {},
   "outputs": [],
   "source": [
    "# Applying k-Means\n",
    "kmeans=KMeans(n_clusters=4)\n",
    "data_user['FrequencyCluster']=kmeans.fit_predict(data_user[['Frequency']])\n",
    "\n",
    "#order the frequency cluster\n",
    "data_user = order_cluster('FrequencyCluster', 'Frequency', data_user, True )\n",
    "data_user.groupby('FrequencyCluster')['Frequency'].describe()"
   ]
  },
  {
   "cell_type": "markdown",
   "id": "7a7cd30d",
   "metadata": {},
   "source": [
    "# 5. Revenue\n",
    "#### Let’s see how our customer database looks like when we cluster them based on revenue. We will calculate revenue for each customer, plot a histogram and apply the same clustering method."
   ]
  },
  {
   "cell_type": "code",
   "execution_count": null,
   "id": "f63e7443",
   "metadata": {},
   "outputs": [],
   "source": [
    "#calculate revenue for each customer\n",
    "data_uk['Revenue'] = data_uk['UnitPrice'] * data_uk['Quantity']\n",
    "data_revenue = data_uk.groupby('CustomerID').Revenue.sum().reset_index()"
   ]
  },
  {
   "cell_type": "code",
   "execution_count": null,
   "id": "6c5104ac",
   "metadata": {},
   "outputs": [],
   "source": [
    "data_revenue.head()"
   ]
  },
  {
   "cell_type": "code",
   "execution_count": null,
   "id": "fd3c9c53",
   "metadata": {},
   "outputs": [],
   "source": [
    "#merge it with our main dataframe\n",
    "data_user = pd.merge(data_user, data_revenue, on='CustomerID')\n",
    "data_user.head()"
   ]
  },
  {
   "cell_type": "code",
   "execution_count": null,
   "id": "75f92a60",
   "metadata": {},
   "outputs": [],
   "source": [
    "from sklearn.cluster import KMeans\n",
    "\n",
    "sse={} # error\n",
    "data_recency = data_user[['Revenue']]\n",
    "for k in range(1, 10):\n",
    "    kmeans = KMeans(n_clusters=k, max_iter=1000).fit(data_recency)\n",
    "    data_recency[\"clusters\"] = kmeans.labels_  #cluster names corresponding to recency values \n",
    "    sse[k] = kmeans.inertia_ #sse corresponding to clusters\n",
    "plt.figure()\n",
    "plt.plot(list(sse.keys()), list(sse.values()))\n",
    "plt.xlabel(\"Number of cluster\")\n",
    "plt.show()"
   ]
  },
  {
   "cell_type": "markdown",
   "id": "3a5265e7",
   "metadata": {},
   "source": [
    "# 5.1 Revenue clusters"
   ]
  },
  {
   "cell_type": "code",
   "execution_count": null,
   "id": "7919234d",
   "metadata": {},
   "outputs": [],
   "source": [
    "#apply clustering\n",
    "kmeans = KMeans(n_clusters=4)\n",
    "data_user['RevenueCluster'] = kmeans.fit_predict(data_user[['Revenue']])\n",
    "\n",
    "#order the cluster numbers\n",
    "data_user = order_cluster('RevenueCluster', 'Revenue',data_user,True)\n",
    "\n",
    "#show details of the dataframe\n",
    "data_user.groupby('RevenueCluster')['Revenue'].describe()"
   ]
  },
  {
   "cell_type": "markdown",
   "id": "79157308",
   "metadata": {},
   "source": [
    "# Overall score based on RFM clustering\n",
    "#### We have scores (cluster numbers) for recency, frequency & revenue. Let’s create an overall score out of them"
   ]
  },
  {
   "cell_type": "code",
   "execution_count": null,
   "id": "6e620884",
   "metadata": {},
   "outputs": [],
   "source": [
    "#calculate overall score and use mean() to see details\n",
    "data_user['OverallScore'] = data_user['RecencyCluster'] + data_user['FrequencyCluster'] + data_user['RevenueCluster']\n",
    "data_user.groupby('OverallScore')['Recency','Frequency','Revenue'].mean()"
   ]
  },
  {
   "cell_type": "markdown",
   "id": "9baa6d51",
   "metadata": {},
   "source": [
    "#### Score 8 is our best customer, score 0 is our worst customer."
   ]
  },
  {
   "cell_type": "code",
   "execution_count": null,
   "id": "e1a00858",
   "metadata": {},
   "outputs": [],
   "source": [
    "data_user['Segment'] = 'Low-Value'\n",
    "data_user.loc[data_user['OverallScore']>2,'Segment'] = 'Mid-Value' \n",
    "data_user.loc[data_user['OverallScore']>4,'Segment'] = 'High-Value' "
   ]
  },
  {
   "cell_type": "code",
   "execution_count": null,
   "id": "28f05034",
   "metadata": {},
   "outputs": [],
   "source": [
    "data_user"
   ]
  },
  {
   "cell_type": "markdown",
   "id": "9d923be7",
   "metadata": {},
   "source": [
    "# Customer Lifetime Value\n",
    "#### Since our feature set is ready, let’s calculate 6 months LTV for each customer which we are going to use for training our model.\n",
    "### Lifetime Value: Total Gross Revenue - Total Cost\n",
    "#### There is no cost specified in the dataset. That’s why Revenue becomes our LTV directly."
   ]
  },
  {
   "cell_type": "code",
   "execution_count": null,
   "id": "e1af180b",
   "metadata": {},
   "outputs": [],
   "source": [
    "data_uk.head()"
   ]
  },
  {
   "cell_type": "code",
   "execution_count": null,
   "id": "fdc7bcde",
   "metadata": {},
   "outputs": [],
   "source": [
    "data_uk['InvoiceDate'].describe()"
   ]
  },
  {
   "cell_type": "markdown",
   "id": "991a1bf2",
   "metadata": {},
   "source": [
    "#### We see that customers are active from 1 December 2010. Let us consider customers from March onwards (so that they are not new customers). We shall divide them into 2 subgroups. One will be where timeframe of analysing is 3 months, another will be timeframe of 6 months."
   ]
  },
  {
   "cell_type": "code",
   "execution_count": null,
   "id": "c772e503",
   "metadata": {},
   "outputs": [],
   "source": [
    "data_3m = data_uk[(data_uk.InvoiceDate < date(2011,6,1)) & (data_uk.InvoiceDate >= date(2011,3,1))].reset_index(drop=True) #3 months time\n",
    "data_6m = data_uk[(data_uk.InvoiceDate >= date(2011,6,1)) & (data_uk.InvoiceDate < date(2011,12,1))].reset_index(drop=True) # 6 months time"
   ]
  },
  {
   "cell_type": "code",
   "execution_count": null,
   "id": "202dd4eb",
   "metadata": {},
   "outputs": [],
   "source": [
    "#calculate revenue and create a new dataframe for it\n",
    "data_6m['Revenue'] = data_6m['UnitPrice'] * data_6m['Quantity']\n",
    "data_user_6m = data_6m.groupby('CustomerID')['Revenue'].sum().reset_index()\n",
    "data_user_6m.columns = ['CustomerID','m6_Revenue']"
   ]
  },
  {
   "cell_type": "code",
   "execution_count": null,
   "id": "bd46deb2",
   "metadata": {},
   "outputs": [],
   "source": [
    "data_user_6m.head()"
   ]
  },
  {
   "cell_type": "code",
   "execution_count": null,
   "id": "330b6d67",
   "metadata": {},
   "outputs": [],
   "source": [
    "#plot LTV histogram\n",
    "plot_data = [\n",
    "    go.Histogram(\n",
    "        x=data_user_6m['m6_Revenue']\n",
    "    )\n",
    "]\n",
    "\n",
    "plot_layout = go.Layout(\n",
    "        title='6m Revenue'\n",
    "    )\n",
    "fig = go.Figure(data=plot_data, layout=plot_layout)\n",
    "pyoff.iplot(fig)"
   ]
  },
  {
   "cell_type": "markdown",
   "id": "23bd2489",
   "metadata": {},
   "source": [
    "#### Histogram clearly shows we have customers with negative LTV. We have some outliers too. Filtering out the outliers makes sense to have a proper machine learning model."
   ]
  },
  {
   "cell_type": "code",
   "execution_count": null,
   "id": "28332020",
   "metadata": {},
   "outputs": [],
   "source": [
    "data_user.head()"
   ]
  },
  {
   "cell_type": "code",
   "execution_count": null,
   "id": "2a1e5480",
   "metadata": {},
   "outputs": [],
   "source": [
    "data_uk.head()"
   ]
  },
  {
   "cell_type": "code",
   "execution_count": null,
   "id": "970fa647",
   "metadata": {},
   "outputs": [],
   "source": [
    "data_merge = pd.merge(data_user, data_user_6m, on='CustomerID', how='left') #Only people who are in the timeline of data_user_6m\n"
   ]
  },
  {
   "cell_type": "code",
   "execution_count": null,
   "id": "0127e2f4",
   "metadata": {},
   "outputs": [],
   "source": [
    "data_merge = data_merge.fillna(0)"
   ]
  },
  {
   "cell_type": "code",
   "execution_count": null,
   "id": "1cad3bd8",
   "metadata": {},
   "outputs": [],
   "source": [
    "data_graph = data_merge.query(\"m6_Revenue < 50000\") #because max values are ending at 50,000 as seen in graph above\n",
    "\n",
    "plot_data = [\n",
    "    go.Scatter(\n",
    "        x=data_graph.query(\"Segment == 'Low-Value'\")['OverallScore'],\n",
    "        y=data_graph.query(\"Segment == 'Low-Value'\")['m6_Revenue'],\n",
    "        mode='markers',\n",
    "        name='Low',\n",
    "        marker= dict(size= 7,\n",
    "            line= dict(width=1),\n",
    "            color= 'blue',\n",
    "            opacity= 0.8\n",
    "           )\n",
    "    ),\n",
    "        go.Scatter(\n",
    "        x=data_graph.query(\"Segment == 'Mid-Value'\")['OverallScore'],\n",
    "        y=data_graph.query(\"Segment == 'Mid-Value'\")['m6_Revenue'],\n",
    "        mode='markers',\n",
    "        name='Mid',\n",
    "        marker= dict(size= 9,\n",
    "            line= dict(width=1),\n",
    "            color= 'green',\n",
    "            opacity= 0.5\n",
    "           )\n",
    "    ),\n",
    "        go.Scatter(\n",
    "        x=data_graph.query(\"Segment == 'High-Value'\")['OverallScore'],\n",
    "        y=data_graph.query(\"Segment == 'High-Value'\")['m6_Revenue'],\n",
    "        mode='markers',\n",
    "        name='High',\n",
    "        marker= dict(size= 11,\n",
    "            line= dict(width=1),\n",
    "            color= 'red',\n",
    "            opacity= 0.9\n",
    "           )\n",
    "    ),\n",
    "]\n",
    "\n",
    "plot_layout = go.Layout(\n",
    "        yaxis= {'title': \"6m LTV\"},\n",
    "        xaxis= {'title': \"RFM Score\"},\n",
    "        title='LTV'\n",
    "    )\n",
    "fig = go.Figure(data=plot_data, layout=plot_layout)\n",
    "pyoff.iplot(fig)"
   ]
  },
  {
   "cell_type": "markdown",
   "id": "d385e406",
   "metadata": {},
   "source": [
    "#### We can visualise correlation between overall RFM score and revenue. Positive correlation is quite visible here. High RFM score means high LTV.\n",
    "\n",
    "#### Before building the machine learning model, we need to identify what is the type of this machine learning problem. LTV itself is a regression problem. A machine learning model can predict the dollar value of the LTV. But here, we want LTV segments. #### #### Because it makes it more actionable and easy to communicate with other people. By applying K-means clustering, we can identify our existing LTV groups and build segments on top of it.\n",
    "\n",
    "#### Considering business part of this analysis, we need to treat customers differently based on their predicted LTV. For this example, we will apply clustering and have 3 segments (number of segments really depends on your business dynamics and goals):\n",
    "\n",
    "* Low LTV\n",
    "* Mid LTV\n",
    "* High LTV\n",
    "\n",
    "#### We are going to apply K-means clustering to decide segments and observe their characteristics"
   ]
  },
  {
   "cell_type": "code",
   "execution_count": null,
   "id": "301b31be",
   "metadata": {},
   "outputs": [],
   "source": [
    "#remove outliers\n",
    "data_merge = data_merge[data_merge['m6_Revenue']<data_merge['m6_Revenue'].quantile(0.99)]"
   ]
  },
  {
   "cell_type": "code",
   "execution_count": null,
   "id": "608ce3d4",
   "metadata": {},
   "outputs": [],
   "source": [
    "data_merge.head()"
   ]
  },
  {
   "cell_type": "code",
   "execution_count": null,
   "id": "55de6c29",
   "metadata": {},
   "outputs": [],
   "source": [
    "#creating 3 clusters\n",
    "kmeans = KMeans(n_clusters=3)\n",
    "data_merge['LTVCluster'] = kmeans.fit_predict(data_merge[['m6_Revenue']])\n",
    "\n",
    "data_merge.head()"
   ]
  },
  {
   "cell_type": "code",
   "execution_count": null,
   "id": "87fa2c3a",
   "metadata": {},
   "outputs": [],
   "source": [
    "#order cluster number based on LTV\n",
    "data_merge = order_cluster('LTVCluster', 'm6_Revenue',data_merge,True)\n",
    "\n",
    "#creatinga new cluster dataframe\n",
    "data_cluster = data_merge.copy()\n",
    "\n",
    "#see details of the clusters\n",
    "data_cluster.groupby('LTVCluster')['m6_Revenue'].describe()"
   ]
  },
  {
   "cell_type": "markdown",
   "id": "c8417107",
   "metadata": {},
   "source": [
    "#### We have finished LTV clustering and here are the characteristics of each clusters as shown above.\n",
    "\n",
    "#### Cluster 2 is the best with average 8.2k LTV whereas 0 is the worst with 396.\n",
    "\n",
    "#### There are few more step before training the machine learning model:\n",
    "* Feature engineering.\n",
    "* Convert categorical columns to numerical columns.\n",
    "* We will check the correlation of features against our label, LTV clusters.\n",
    "* We will split our feature set and label (LTV) as X and y. We use X to predict y.\n",
    "* Will create Training and Test dataset. Training set will be used for building the machine learning model. We will apply our model to Test set to see its real performance."
   ]
  },
  {
   "cell_type": "code",
   "execution_count": null,
   "id": "6eca1abc",
   "metadata": {},
   "outputs": [],
   "source": [
    "data_cluster.head()"
   ]
  },
  {
   "cell_type": "markdown",
   "id": "78574f9e",
   "metadata": {},
   "source": [
    "# 7.1 Feature Engineering"
   ]
  },
  {
   "cell_type": "code",
   "execution_count": null,
   "id": "a92bb67b",
   "metadata": {},
   "outputs": [],
   "source": [
    "#convert categorical columns to numerical\n",
    "data_class = pd.get_dummies(data_cluster) #There is only one categorical variable segment\n",
    "data_class.head()"
   ]
  },
  {
   "cell_type": "code",
   "execution_count": null,
   "id": "8efbce95",
   "metadata": {},
   "outputs": [],
   "source": [
    "#calculate and show correlations\n",
    "corr_matrix = data_class.corr()\n",
    "corr_matrix['LTVCluster'].sort_values(ascending=False)"
   ]
  },
  {
   "cell_type": "code",
   "execution_count": null,
   "id": "58e28695",
   "metadata": {},
   "outputs": [],
   "source": [
    "#create X and y, X will be feature set and y is the label - LTV\n",
    "X = data_class.drop(['LTVCluster','m6_Revenue'],axis=1)\n",
    "y = data_class['LTVCluster']\n",
    "\n",
    "#split training and test sets\n",
    "X_train, X_test, y_train, y_test = train_test_split(X, y, test_size=0.05, random_state=56)"
   ]
  },
  {
   "cell_type": "markdown",
   "id": "a9d67bab",
   "metadata": {},
   "source": [
    "#### We see that Revenue, Frequency and RFM scores will be helpful for our machine learning models from the correlation with LTV Cluster."
   ]
  },
  {
   "cell_type": "markdown",
   "id": "579c50f4",
   "metadata": {},
   "source": [
    "# 8. Machine Learning Model for Customer Lifetime Value Prediction\n",
    "#### Since our LTV Clusters are 3 types, high LTV, mid LTV, and low LTV; we will perform multi class classification"
   ]
  },
  {
   "cell_type": "code",
   "execution_count": null,
   "id": "4d0ff278",
   "metadata": {},
   "outputs": [],
   "source": [
    "#XGBoost Multiclassification Model\n",
    "ltv_xgb_model = xgb.XGBClassifier(max_depth=5, learning_rate=0.1,n_jobs=-1).fit(X_train, y_train)\n",
    "\n",
    "print('Accuracy of XGB classifier on training set: {:.2f}'\n",
    "       .format(ltv_xgb_model.score(X_train, y_train)))\n",
    "print('Accuracy of XGB classifier on test set: {:.2f}'\n",
    "       .format(ltv_xgb_model.score(X_test[X_train.columns], y_test)))\n",
    "\n",
    "y_pred = ltv_xgb_model.predict(X_test)"
   ]
  },
  {
   "cell_type": "markdown",
   "id": "a4902270",
   "metadata": {},
   "source": [
    "#### Accuracy looks good on training and test set. Let's check the precision, recall, fscore too"
   ]
  },
  {
   "cell_type": "code",
   "execution_count": null,
   "id": "dded1d14",
   "metadata": {},
   "outputs": [],
   "source": [
    "print(classification_report(y_test, y_pred))"
   ]
  },
  {
   "cell_type": "markdown",
   "id": "bdfae050",
   "metadata": {},
   "source": [
    "# Final Clusters for Customer Lifetime Value"
   ]
  },
  {
   "cell_type": "markdown",
   "id": "407d7a4d",
   "metadata": {},
   "source": [
    "* Cluster 0: Good precision, recall, f1-score and support\n",
    "* Cluster 1: Needs better precision, recall and f1-score\n",
    "* Cluster 2: Bad precision, F1-Score needs improvement\n",
    "\n",
    "#### If model tells us this customer belongs to cluster 0, 93 out of 100 will be correct (precision). And the model successfully identifies 95% of actual cluster 0 customers (recall).\n",
    "\n",
    "#### We really need to improve the model for other clusters. For example, we barely detect 67% of Mid LTV customers.\n",
    "\n",
    "#### Possible actions to improve performance\n",
    "\n",
    "* Adding more features and improve feature engineering\n",
    "* Try different models other than XGBoost\n",
    "* Apply hyper parameter tuning to current model\n",
    "* Add more data to the model if possible"
   ]
  }
 ],
 "metadata": {
  "kernelspec": {
   "display_name": "Python 3 (ipykernel)",
   "language": "python",
   "name": "python3"
  },
  "language_info": {
   "codemirror_mode": {
    "name": "ipython",
    "version": 3
   },
   "file_extension": ".py",
   "mimetype": "text/x-python",
   "name": "python",
   "nbconvert_exporter": "python",
   "pygments_lexer": "ipython3",
   "version": "3.10.6"
  }
 },
 "nbformat": 4,
 "nbformat_minor": 5
}
