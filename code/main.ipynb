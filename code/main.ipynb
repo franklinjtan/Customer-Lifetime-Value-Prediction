{
 "cells": [
  {
   "cell_type": "markdown",
   "id": "de325d28",
   "metadata": {},
   "source": [
    "# 1. Identifying the features\n",
    "#### Use RFM scores for each customer ID for feature set. In order to implement this correctly, we should divide our dataset. We will select a period of 3 months' worth of data, calculate the RFM scores, and then utilize them to predict the following 6 months. Therefore, our first step is to create two dataframes and add the RFM scores to them.'"
   ]
  },
  {
   "cell_type": "markdown",
   "id": "eb081aff",
   "metadata": {},
   "source": [
    "# 2. Importing necessary libraries and packages"
   ]
  },
  {
   "cell_type": "code",
   "execution_count": 11,
   "id": "8d8afe83",
   "metadata": {},
   "outputs": [],
   "source": [
    "#import libraries\n",
    "from __future__ import division\n",
    "\n",
    "from datetime import datetime, timedelta,date\n",
    "import pandas as pd\n",
    "%matplotlib inline\n",
    "# from sklearn.metrics import classification_report,confusion_matrix\n",
    "import matplotlib.pyplot as plt\n",
    "import numpy as np\n",
    "import seaborn as sns\n",
    "# from sklearn.cluster import KMeans\n",
    "\n",
    "\n",
    "import plotly as py\n",
    "import plotly.offline as pyoff\n",
    "import plotly.graph_objs as go\n",
    "\n",
    "# import xgboost as xgb\n",
    "# from sklearn.model_selection import KFold, cross_val_score, train_test_split\n",
    "\n",
    "# import xgboost as xgb"
   ]
  },
  {
   "cell_type": "code",
   "execution_count": 12,
   "id": "41bc9223",
   "metadata": {},
   "outputs": [],
   "source": [
    "data = pd.read_csv('../data/customer_segmentation.csv', encoding='cp1252')"
   ]
  },
  {
   "cell_type": "code",
   "execution_count": null,
   "id": "b83354f4",
   "metadata": {},
   "outputs": [],
   "source": [
    "#initate plotly\n",
    "pyoff.init_notebook_mode()\n",
    "\n",
    "#read data from csv and redo the data work we done before\n",
    "data.head()"
   ]
  }
 ],
 "metadata": {
  "kernelspec": {
   "display_name": "Python 3 (ipykernel)",
   "language": "python",
   "name": "python3"
  },
  "language_info": {
   "codemirror_mode": {
    "name": "ipython",
    "version": 3
   },
   "file_extension": ".py",
   "mimetype": "text/x-python",
   "name": "python",
   "nbconvert_exporter": "python",
   "pygments_lexer": "ipython3",
   "version": "3.10.6"
  }
 },
 "nbformat": 4,
 "nbformat_minor": 5
}
